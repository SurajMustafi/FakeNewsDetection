{
  "nbformat": 4,
  "nbformat_minor": 0,
  "metadata": {
    "colab": {
      "name": "FakeNewsDetection.ipynb",
      "provenance": []
    },
    "kernelspec": {
      "name": "python3",
      "display_name": "Python 3"
    },
    "language_info": {
      "name": "python"
    }
  },
  "cells": [
    {
      "cell_type": "markdown",
      "metadata": {
        "id": "R--081m2G-8Q"
      },
      "source": [
        "Importing the Dataset :\n"
      ]
    },
    {
      "cell_type": "code",
      "metadata": {
        "id": "Pi-3SgxkG5w4"
      },
      "source": [
        "import numpy as np\n",
        "import pandas as pd\n",
        "import re\n",
        "from nltk.corpus import stopwords\n",
        "from nltk.stem.porter import PorterStemmer\n",
        "from sklearn.feature_extraction.text import TfidfVectorizer\n",
        "from sklearn.model_selection import train_test_split\n",
        "from sklearn.linear_model import LogisticRegression\n",
        "from sklearn.metrics import accuracy_score"
      ],
      "execution_count": 1,
      "outputs": []
    },
    {
      "cell_type": "code",
      "metadata": {
        "colab": {
          "base_uri": "https://localhost:8080/"
        },
        "id": "yG1berYlHGQj",
        "outputId": "587370bd-a8db-4784-a01f-5ed2dbb03d88"
      },
      "source": [
        "import nltk\n",
        "nltk.download('stopwords')"
      ],
      "execution_count": 2,
      "outputs": [
        {
          "output_type": "stream",
          "text": [
            "[nltk_data] Downloading package stopwords to /root/nltk_data...\n",
            "[nltk_data]   Package stopwords is already up-to-date!\n"
          ],
          "name": "stdout"
        },
        {
          "output_type": "execute_result",
          "data": {
            "text/plain": [
              "True"
            ]
          },
          "metadata": {
            "tags": []
          },
          "execution_count": 2
        }
      ]
    },
    {
      "cell_type": "code",
      "metadata": {
        "colab": {
          "base_uri": "https://localhost:8080/"
        },
        "id": "94G94xkPHdJu",
        "outputId": "83c5d272-9b6b-4b5b-8899-72246032a9e2"
      },
      "source": [
        "# Printing the stopwords\n",
        "print(stopwords.words('english'))"
      ],
      "execution_count": 3,
      "outputs": [
        {
          "output_type": "stream",
          "text": [
            "['i', 'me', 'my', 'myself', 'we', 'our', 'ours', 'ourselves', 'you', \"you're\", \"you've\", \"you'll\", \"you'd\", 'your', 'yours', 'yourself', 'yourselves', 'he', 'him', 'his', 'himself', 'she', \"she's\", 'her', 'hers', 'herself', 'it', \"it's\", 'its', 'itself', 'they', 'them', 'their', 'theirs', 'themselves', 'what', 'which', 'who', 'whom', 'this', 'that', \"that'll\", 'these', 'those', 'am', 'is', 'are', 'was', 'were', 'be', 'been', 'being', 'have', 'has', 'had', 'having', 'do', 'does', 'did', 'doing', 'a', 'an', 'the', 'and', 'but', 'if', 'or', 'because', 'as', 'until', 'while', 'of', 'at', 'by', 'for', 'with', 'about', 'against', 'between', 'into', 'through', 'during', 'before', 'after', 'above', 'below', 'to', 'from', 'up', 'down', 'in', 'out', 'on', 'off', 'over', 'under', 'again', 'further', 'then', 'once', 'here', 'there', 'when', 'where', 'why', 'how', 'all', 'any', 'both', 'each', 'few', 'more', 'most', 'other', 'some', 'such', 'no', 'nor', 'not', 'only', 'own', 'same', 'so', 'than', 'too', 'very', 's', 't', 'can', 'will', 'just', 'don', \"don't\", 'should', \"should've\", 'now', 'd', 'll', 'm', 'o', 're', 've', 'y', 'ain', 'aren', \"aren't\", 'couldn', \"couldn't\", 'didn', \"didn't\", 'doesn', \"doesn't\", 'hadn', \"hadn't\", 'hasn', \"hasn't\", 'haven', \"haven't\", 'isn', \"isn't\", 'ma', 'mightn', \"mightn't\", 'mustn', \"mustn't\", 'needn', \"needn't\", 'shan', \"shan't\", 'shouldn', \"shouldn't\", 'wasn', \"wasn't\", 'weren', \"weren't\", 'won', \"won't\", 'wouldn', \"wouldn't\"]\n"
          ],
          "name": "stdout"
        }
      ]
    },
    {
      "cell_type": "markdown",
      "metadata": {
        "id": "6JkNBLhJHuM7"
      },
      "source": [
        "Loading the dataset :"
      ]
    },
    {
      "cell_type": "code",
      "metadata": {
        "colab": {
          "base_uri": "https://localhost:8080/"
        },
        "id": "u1WNuBM0Hqiv",
        "outputId": "4aec79fb-3619-4cdd-c496-b413cc1f5b95"
      },
      "source": [
        "news_dataset = pd.read_csv('/content/train.csv',error_bad_lines=False,engine='python')"
      ],
      "execution_count": 4,
      "outputs": [
        {
          "output_type": "stream",
          "text": [
            "Skipping line 13535: field larger than field limit (131072)\n",
            "Skipping line 19783: field larger than field limit (131072)\n",
            "Skipping line 13541: Expected 5 fields in line 13541, saw 6\n",
            "Skipping line 19782: Expected 5 fields in line 19782, saw 7\n",
            "Skipping line 19783: Expected 5 fields in line 19783, saw 10\n",
            "Skipping line 19785: Expected 5 fields in line 19785, saw 14\n",
            "Skipping line 19787: Expected 5 fields in line 19787, saw 8\n",
            "Skipping line 19789: Expected 5 fields in line 19789, saw 7\n",
            "Skipping line 19790: Expected 5 fields in line 19790, saw 15\n",
            "Skipping line 19791: Expected 5 fields in line 19791, saw 9\n",
            "Skipping line 19792: Expected 5 fields in line 19792, saw 9\n",
            "Skipping line 19793: Expected 5 fields in line 19793, saw 12\n",
            "Skipping line 19794: Expected 5 fields in line 19794, saw 15\n",
            "Skipping line 19795: Expected 5 fields in line 19795, saw 8\n",
            "Skipping line 19796: Expected 5 fields in line 19796, saw 20\n",
            "Skipping line 19797: Expected 5 fields in line 19797, saw 8\n",
            "Skipping line 19798: Expected 5 fields in line 19798, saw 8\n",
            "Skipping line 19801: Expected 5 fields in line 19801, saw 8\n",
            "Skipping line 19802: Expected 5 fields in line 19802, saw 9\n",
            "Skipping line 19803: Expected 5 fields in line 19803, saw 18\n",
            "Skipping line 19804: Expected 5 fields in line 19804, saw 6\n",
            "Skipping line 19805: Expected 5 fields in line 19805, saw 7\n",
            "Skipping line 19806: Expected 5 fields in line 19806, saw 16\n",
            "Skipping line 19807: Expected 5 fields in line 19807, saw 24\n",
            "Skipping line 19808: Expected 5 fields in line 19808, saw 11\n"
          ],
          "name": "stderr"
        }
      ]
    },
    {
      "cell_type": "code",
      "metadata": {
        "colab": {
          "base_uri": "https://localhost:8080/",
          "height": 203
        },
        "id": "I_zPF8GgHx7l",
        "outputId": "19d9d054-fb84-4876-c2d1-8e90812d9449"
      },
      "source": [
        "news_dataset.head()"
      ],
      "execution_count": 5,
      "outputs": [
        {
          "output_type": "execute_result",
          "data": {
            "text/html": [
              "<div>\n",
              "<style scoped>\n",
              "    .dataframe tbody tr th:only-of-type {\n",
              "        vertical-align: middle;\n",
              "    }\n",
              "\n",
              "    .dataframe tbody tr th {\n",
              "        vertical-align: top;\n",
              "    }\n",
              "\n",
              "    .dataframe thead th {\n",
              "        text-align: right;\n",
              "    }\n",
              "</style>\n",
              "<table border=\"1\" class=\"dataframe\">\n",
              "  <thead>\n",
              "    <tr style=\"text-align: right;\">\n",
              "      <th></th>\n",
              "      <th>id</th>\n",
              "      <th>title</th>\n",
              "      <th>author</th>\n",
              "      <th>text</th>\n",
              "      <th>label</th>\n",
              "    </tr>\n",
              "  </thead>\n",
              "  <tbody>\n",
              "    <tr>\n",
              "      <th>0</th>\n",
              "      <td>0</td>\n",
              "      <td>House Dem Aide: We Didn’t Even See Comey’s Let...</td>\n",
              "      <td>Darrell Lucus</td>\n",
              "      <td>House Dem Aide: We Didn’t Even See Comey’s Let...</td>\n",
              "      <td>1</td>\n",
              "    </tr>\n",
              "    <tr>\n",
              "      <th>1</th>\n",
              "      <td>1</td>\n",
              "      <td>FLYNN: Hillary Clinton, Big Woman on Campus - ...</td>\n",
              "      <td>Daniel J. Flynn</td>\n",
              "      <td>Ever get the feeling your life circles the rou...</td>\n",
              "      <td>0</td>\n",
              "    </tr>\n",
              "    <tr>\n",
              "      <th>2</th>\n",
              "      <td>2</td>\n",
              "      <td>Why the Truth Might Get You Fired</td>\n",
              "      <td>Consortiumnews.com</td>\n",
              "      <td>Why the Truth Might Get You Fired October 29, ...</td>\n",
              "      <td>1</td>\n",
              "    </tr>\n",
              "    <tr>\n",
              "      <th>3</th>\n",
              "      <td>3</td>\n",
              "      <td>15 Civilians Killed In Single US Airstrike Hav...</td>\n",
              "      <td>Jessica Purkiss</td>\n",
              "      <td>Videos 15 Civilians Killed In Single US Airstr...</td>\n",
              "      <td>1</td>\n",
              "    </tr>\n",
              "    <tr>\n",
              "      <th>4</th>\n",
              "      <td>4</td>\n",
              "      <td>Iranian woman jailed for fictional unpublished...</td>\n",
              "      <td>Howard Portnoy</td>\n",
              "      <td>Print \\nAn Iranian woman has been sentenced to...</td>\n",
              "      <td>1</td>\n",
              "    </tr>\n",
              "  </tbody>\n",
              "</table>\n",
              "</div>"
            ],
            "text/plain": [
              "  id  ... label\n",
              "0  0  ...     1\n",
              "1  1  ...     0\n",
              "2  2  ...     1\n",
              "3  3  ...     1\n",
              "4  4  ...     1\n",
              "\n",
              "[5 rows x 5 columns]"
            ]
          },
          "metadata": {
            "tags": []
          },
          "execution_count": 5
        }
      ]
    },
    {
      "cell_type": "code",
      "metadata": {
        "colab": {
          "base_uri": "https://localhost:8080/"
        },
        "id": "Gd2pyVfJJwts",
        "outputId": "e24b51c2-2615-4355-dfc1-8c7b959bff95"
      },
      "source": [
        "news_dataset.shape"
      ],
      "execution_count": 6,
      "outputs": [
        {
          "output_type": "execute_result",
          "data": {
            "text/plain": [
              "(20822, 5)"
            ]
          },
          "metadata": {
            "tags": []
          },
          "execution_count": 6
        }
      ]
    },
    {
      "cell_type": "code",
      "metadata": {
        "colab": {
          "base_uri": "https://localhost:8080/"
        },
        "id": "PwDgLjBbJ3y4",
        "outputId": "1ceb2dd9-a0e0-4495-af6e-400fc3966604"
      },
      "source": [
        "# Counting the number of missing values in the dataset\n",
        "news_dataset.isna().sum()"
      ],
      "execution_count": 7,
      "outputs": [
        {
          "output_type": "execute_result",
          "data": {
            "text/plain": [
              "id           0\n",
              "title      565\n",
              "author    1975\n",
              "text        59\n",
              "label       22\n",
              "dtype: int64"
            ]
          },
          "metadata": {
            "tags": []
          },
          "execution_count": 7
        }
      ]
    },
    {
      "cell_type": "code",
      "metadata": {
        "id": "aQnVC0a0KGPw"
      },
      "source": [
        "# Replacing this missing values with empty strings\n",
        "news_dataset = news_dataset.fillna(\"\")"
      ],
      "execution_count": 8,
      "outputs": []
    },
    {
      "cell_type": "markdown",
      "metadata": {
        "id": "LBsuVjfSKiG1"
      },
      "source": [
        ""
      ]
    },
    {
      "cell_type": "code",
      "metadata": {
        "colab": {
          "base_uri": "https://localhost:8080/",
          "height": 417
        },
        "id": "KEUKb4kHKS-H",
        "outputId": "248d0c9f-1b11-4af7-9bf4-9e89aaef0743"
      },
      "source": [
        "news_dataset.isna() # Now all the missing values have been replaced"
      ],
      "execution_count": 9,
      "outputs": [
        {
          "output_type": "execute_result",
          "data": {
            "text/html": [
              "<div>\n",
              "<style scoped>\n",
              "    .dataframe tbody tr th:only-of-type {\n",
              "        vertical-align: middle;\n",
              "    }\n",
              "\n",
              "    .dataframe tbody tr th {\n",
              "        vertical-align: top;\n",
              "    }\n",
              "\n",
              "    .dataframe thead th {\n",
              "        text-align: right;\n",
              "    }\n",
              "</style>\n",
              "<table border=\"1\" class=\"dataframe\">\n",
              "  <thead>\n",
              "    <tr style=\"text-align: right;\">\n",
              "      <th></th>\n",
              "      <th>id</th>\n",
              "      <th>title</th>\n",
              "      <th>author</th>\n",
              "      <th>text</th>\n",
              "      <th>label</th>\n",
              "    </tr>\n",
              "  </thead>\n",
              "  <tbody>\n",
              "    <tr>\n",
              "      <th>0</th>\n",
              "      <td>False</td>\n",
              "      <td>False</td>\n",
              "      <td>False</td>\n",
              "      <td>False</td>\n",
              "      <td>False</td>\n",
              "    </tr>\n",
              "    <tr>\n",
              "      <th>1</th>\n",
              "      <td>False</td>\n",
              "      <td>False</td>\n",
              "      <td>False</td>\n",
              "      <td>False</td>\n",
              "      <td>False</td>\n",
              "    </tr>\n",
              "    <tr>\n",
              "      <th>2</th>\n",
              "      <td>False</td>\n",
              "      <td>False</td>\n",
              "      <td>False</td>\n",
              "      <td>False</td>\n",
              "      <td>False</td>\n",
              "    </tr>\n",
              "    <tr>\n",
              "      <th>3</th>\n",
              "      <td>False</td>\n",
              "      <td>False</td>\n",
              "      <td>False</td>\n",
              "      <td>False</td>\n",
              "      <td>False</td>\n",
              "    </tr>\n",
              "    <tr>\n",
              "      <th>4</th>\n",
              "      <td>False</td>\n",
              "      <td>False</td>\n",
              "      <td>False</td>\n",
              "      <td>False</td>\n",
              "      <td>False</td>\n",
              "    </tr>\n",
              "    <tr>\n",
              "      <th>...</th>\n",
              "      <td>...</td>\n",
              "      <td>...</td>\n",
              "      <td>...</td>\n",
              "      <td>...</td>\n",
              "      <td>...</td>\n",
              "    </tr>\n",
              "    <tr>\n",
              "      <th>20817</th>\n",
              "      <td>False</td>\n",
              "      <td>False</td>\n",
              "      <td>False</td>\n",
              "      <td>False</td>\n",
              "      <td>False</td>\n",
              "    </tr>\n",
              "    <tr>\n",
              "      <th>20818</th>\n",
              "      <td>False</td>\n",
              "      <td>False</td>\n",
              "      <td>False</td>\n",
              "      <td>False</td>\n",
              "      <td>False</td>\n",
              "    </tr>\n",
              "    <tr>\n",
              "      <th>20819</th>\n",
              "      <td>False</td>\n",
              "      <td>False</td>\n",
              "      <td>False</td>\n",
              "      <td>False</td>\n",
              "      <td>False</td>\n",
              "    </tr>\n",
              "    <tr>\n",
              "      <th>20820</th>\n",
              "      <td>False</td>\n",
              "      <td>False</td>\n",
              "      <td>False</td>\n",
              "      <td>False</td>\n",
              "      <td>False</td>\n",
              "    </tr>\n",
              "    <tr>\n",
              "      <th>20821</th>\n",
              "      <td>False</td>\n",
              "      <td>False</td>\n",
              "      <td>False</td>\n",
              "      <td>False</td>\n",
              "      <td>False</td>\n",
              "    </tr>\n",
              "  </tbody>\n",
              "</table>\n",
              "<p>20822 rows × 5 columns</p>\n",
              "</div>"
            ],
            "text/plain": [
              "          id  title  author   text  label\n",
              "0      False  False   False  False  False\n",
              "1      False  False   False  False  False\n",
              "2      False  False   False  False  False\n",
              "3      False  False   False  False  False\n",
              "4      False  False   False  False  False\n",
              "...      ...    ...     ...    ...    ...\n",
              "20817  False  False   False  False  False\n",
              "20818  False  False   False  False  False\n",
              "20819  False  False   False  False  False\n",
              "20820  False  False   False  False  False\n",
              "20821  False  False   False  False  False\n",
              "\n",
              "[20822 rows x 5 columns]"
            ]
          },
          "metadata": {
            "tags": []
          },
          "execution_count": 9
        }
      ]
    },
    {
      "cell_type": "markdown",
      "metadata": {
        "id": "DLniKEVXKkUd"
      },
      "source": [
        "Now we need to do data preprocessing so that the macihine can understand the text. That is we will have to make this text data into meaningful numbers for the machine to get trained."
      ]
    },
    {
      "cell_type": "code",
      "metadata": {
        "id": "xRvzCpQfKV_n"
      },
      "source": [
        "# Merging the author and title as content\n",
        "news_dataset['content'] = news_dataset['author'] + \" \" + news_dataset['title'] # we will use content to train the model"
      ],
      "execution_count": 10,
      "outputs": []
    },
    {
      "cell_type": "code",
      "metadata": {
        "colab": {
          "base_uri": "https://localhost:8080/"
        },
        "id": "ALYK2kMGK2bz",
        "outputId": "e036ef88-0b4c-47cc-ccae-d5ba7a55808c"
      },
      "source": [
        "print(news_dataset['content'])"
      ],
      "execution_count": 11,
      "outputs": [
        {
          "output_type": "stream",
          "text": [
            "0        Darrell Lucus House Dem Aide: We Didn’t Even S...\n",
            "1        Daniel J. Flynn FLYNN: Hillary Clinton, Big Wo...\n",
            "2        Consortiumnews.com Why the Truth Might Get You...\n",
            "3        Jessica Purkiss 15 Civilians Killed In Single ...\n",
            "4        Howard Portnoy Iranian woman jailed for fictio...\n",
            "                               ...                        \n",
            "20817    Jerome Hudson Rapper T.I.: Trump a ’Poster Chi...\n",
            "20818    Benjamin Hoffman N.F.L. Playoffs: Schedule, Ma...\n",
            "20819    Michael J. de la Merced and Rachel Abrams Macy...\n",
            "20820    Alex Ansary NATO, Russia To Hold Parallel Exer...\n",
            "20821              David Swanson What Keeps the F-35 Alive\n",
            "Name: content, Length: 20822, dtype: object\n"
          ],
          "name": "stdout"
        }
      ]
    },
    {
      "cell_type": "code",
      "metadata": {
        "id": "4e9aojDRLbM1"
      },
      "source": [
        "# Stemming the data to get the root words\n",
        "port_stem = PorterStemmer()"
      ],
      "execution_count": 12,
      "outputs": []
    },
    {
      "cell_type": "code",
      "metadata": {
        "id": "I85e7LzLLqRq"
      },
      "source": [
        "def stemming(content): # This functions does the textual data preprocessing\n",
        "    stemmed_content = re.sub('[^a-zA-Z]',' ',content)\n",
        "    stemmed_content = stemmed_content.lower()\n",
        "    stemmed_content = stemmed_content.split()\n",
        "    stemmed_content = [port_stem.stem(word) for word in stemmed_content if not word in stopwords.words('english')]\n",
        "    stemmed_content = ' '.join(stemmed_content)\n",
        "    return stemmed_content"
      ],
      "execution_count": 13,
      "outputs": []
    },
    {
      "cell_type": "code",
      "metadata": {
        "id": "f-0u8CGyL5T6"
      },
      "source": [
        "news_dataset['content'] = news_dataset['content'].apply(stemming) # Applying stemming on content column"
      ],
      "execution_count": 14,
      "outputs": []
    },
    {
      "cell_type": "code",
      "metadata": {
        "colab": {
          "base_uri": "https://localhost:8080/"
        },
        "id": "WVyT_MP0MDE3",
        "outputId": "19eca638-2243-44df-81f1-786b9afa87df"
      },
      "source": [
        "print(news_dataset['content']) # This is the stemmed data"
      ],
      "execution_count": 15,
      "outputs": [
        {
          "output_type": "stream",
          "text": [
            "0        darrel lucu hous dem aid even see comey letter...\n",
            "1        daniel j flynn flynn hillari clinton big woman...\n",
            "2                   consortiumnew com truth might get fire\n",
            "3        jessica purkiss civilian kill singl us airstri...\n",
            "4        howard portnoy iranian woman jail fiction unpu...\n",
            "                               ...                        \n",
            "20817    jerom hudson rapper trump poster child white s...\n",
            "20818    benjamin hoffman n f l playoff schedul matchup...\n",
            "20819    michael j de la merc rachel abram maci said re...\n",
            "20820    alex ansari nato russia hold parallel exercis ...\n",
            "20821                            david swanson keep f aliv\n",
            "Name: content, Length: 20822, dtype: object\n"
          ],
          "name": "stdout"
        }
      ]
    },
    {
      "cell_type": "code",
      "metadata": {
        "id": "2mGqtJutMeXz"
      },
      "source": [
        "# Separating the data and label\n",
        "X = news_dataset['content'].values\n",
        "Y = news_dataset['label'].values"
      ],
      "execution_count": 16,
      "outputs": []
    },
    {
      "cell_type": "code",
      "metadata": {
        "colab": {
          "base_uri": "https://localhost:8080/"
        },
        "id": "6DXc0neeTQ0C",
        "outputId": "90987c89-7417-4f40-bb17-26ab8d5d2e74"
      },
      "source": [
        "print(X) # data --> features"
      ],
      "execution_count": 17,
      "outputs": [
        {
          "output_type": "stream",
          "text": [
            "['darrel lucu hous dem aid even see comey letter jason chaffetz tweet'\n",
            " 'daniel j flynn flynn hillari clinton big woman campu breitbart'\n",
            " 'consortiumnew com truth might get fire' ...\n",
            " 'michael j de la merc rachel abram maci said receiv takeov approach hudson bay new york time'\n",
            " 'alex ansari nato russia hold parallel exercis balkan'\n",
            " 'david swanson keep f aliv']\n"
          ],
          "name": "stdout"
        }
      ]
    },
    {
      "cell_type": "code",
      "metadata": {
        "colab": {
          "base_uri": "https://localhost:8080/"
        },
        "id": "OdA3gt53TUmP",
        "outputId": "1b3d9ee7-f8d0-45cb-afba-96f4f854c9fb"
      },
      "source": [
        "print(Y) # labels (1-->fake news & 0-->real news)"
      ],
      "execution_count": 18,
      "outputs": [
        {
          "output_type": "stream",
          "text": [
            "['1' '0' '1' ... '0' '1' '1']\n"
          ],
          "name": "stdout"
        }
      ]
    },
    {
      "cell_type": "code",
      "metadata": {
        "colab": {
          "base_uri": "https://localhost:8080/"
        },
        "id": "-mms7WIgTcWw",
        "outputId": "f25feafe-0fd7-49b4-e7c5-07b11fcd0cd2"
      },
      "source": [
        "# Converting the textual data into numerical data for the machine to train itself\n",
        "vectorizer = TfidfVectorizer()\n",
        "vectorizer.fit(X)"
      ],
      "execution_count": 19,
      "outputs": [
        {
          "output_type": "execute_result",
          "data": {
            "text/plain": [
              "TfidfVectorizer(analyzer='word', binary=False, decode_error='strict',\n",
              "                dtype=<class 'numpy.float64'>, encoding='utf-8',\n",
              "                input='content', lowercase=True, max_df=1.0, max_features=None,\n",
              "                min_df=1, ngram_range=(1, 1), norm='l2', preprocessor=None,\n",
              "                smooth_idf=True, stop_words=None, strip_accents=None,\n",
              "                sublinear_tf=False, token_pattern='(?u)\\\\b\\\\w\\\\w+\\\\b',\n",
              "                tokenizer=None, use_idf=True, vocabulary=None)"
            ]
          },
          "metadata": {
            "tags": []
          },
          "execution_count": 19
        }
      ]
    },
    {
      "cell_type": "code",
      "metadata": {
        "id": "lo-RIxF5T8Ra"
      },
      "source": [
        "X = vectorizer.transform(X)"
      ],
      "execution_count": 20,
      "outputs": []
    },
    {
      "cell_type": "code",
      "metadata": {
        "colab": {
          "base_uri": "https://localhost:8080/"
        },
        "id": "eoOvKSctUIzM",
        "outputId": "9e634431-711a-405e-c5d6-5611d2e29132"
      },
      "source": [
        "print(X) # All the textual data is converted into numerical data"
      ],
      "execution_count": 21,
      "outputs": [
        {
          "output_type": "stream",
          "text": [
            "  (0, 15695)\t0.2848972510323515\n",
            "  (0, 13478)\t0.2560149172431211\n",
            "  (0, 8912)\t0.36364344795259246\n",
            "  (0, 8633)\t0.29217179802324905\n",
            "  (0, 7695)\t0.24789859828097843\n",
            "  (0, 7008)\t0.21878792690522433\n",
            "  (0, 4975)\t0.2333632865672138\n",
            "  (0, 3794)\t0.2705797813233836\n",
            "  (0, 3602)\t0.35994096489813754\n",
            "  (0, 2960)\t0.24689141014750257\n",
            "  (0, 2484)\t0.3676990592743697\n",
            "  (0, 267)\t0.27014778053672167\n",
            "  (1, 16807)\t0.30071934786077886\n",
            "  (1, 6819)\t0.1904866118084521\n",
            "  (1, 5506)\t0.7143145691090199\n",
            "  (1, 3570)\t0.2637458518155929\n",
            "  (1, 2814)\t0.19096625123288233\n",
            "  (1, 2224)\t0.3827200188088641\n",
            "  (1, 1894)\t0.15524631265972175\n",
            "  (1, 1497)\t0.2939921887587299\n",
            "  (2, 15620)\t0.4154491828226571\n",
            "  (2, 9623)\t0.4935010343775579\n",
            "  (2, 5971)\t0.3474726097377811\n",
            "  (2, 5392)\t0.3866575731579265\n",
            "  (2, 3104)\t0.4609666076640373\n",
            "  :\t:\n",
            "  (20819, 13126)\t0.24825540550304984\n",
            "  (20819, 12348)\t0.2726336911024517\n",
            "  (20819, 12142)\t0.2477854180074755\n",
            "  (20819, 10310)\t0.08040873089640542\n",
            "  (20819, 9591)\t0.17456730094721287\n",
            "  (20819, 9521)\t0.2954160983178782\n",
            "  (20819, 8991)\t0.3615944630229642\n",
            "  (20819, 8367)\t0.22323238148833707\n",
            "  (20819, 7045)\t0.21799779675029382\n",
            "  (20819, 3645)\t0.21156327884082238\n",
            "  (20819, 1287)\t0.33537027441279527\n",
            "  (20819, 699)\t0.30685244375729614\n",
            "  (20819, 43)\t0.2970978643820066\n",
            "  (20820, 13050)\t0.22365196436326268\n",
            "  (20820, 11056)\t0.44603979503308544\n",
            "  (20820, 10180)\t0.31925557678525146\n",
            "  (20820, 6892)\t0.32496799904927065\n",
            "  (20820, 5035)\t0.4083636420892534\n",
            "  (20820, 1125)\t0.44603979503308544\n",
            "  (20820, 588)\t0.3112212141173825\n",
            "  (20820, 350)\t0.2844801738583417\n",
            "  (20821, 14860)\t0.5677483667178378\n",
            "  (20821, 8039)\t0.45984604165304654\n",
            "  (20821, 3625)\t0.37929566587884905\n",
            "  (20821, 377)\t0.5677483667178378\n"
          ],
          "name": "stdout"
        }
      ]
    },
    {
      "cell_type": "markdown",
      "metadata": {
        "id": "XpV3okE1Ue5C"
      },
      "source": [
        "Train-test splitting"
      ]
    },
    {
      "cell_type": "code",
      "metadata": {
        "id": "M5fCsSpfULbZ"
      },
      "source": [
        "X_train, X_test, Y_train, Y_test = train_test_split(X, Y, test_size = 0.2, random_state=2)"
      ],
      "execution_count": 24,
      "outputs": []
    },
    {
      "cell_type": "markdown",
      "metadata": {
        "id": "BDaDRHgxUo1K"
      },
      "source": [
        "Training the model ----> Logistic regression"
      ]
    },
    {
      "cell_type": "code",
      "metadata": {
        "id": "DgbgubnHUhHz"
      },
      "source": [
        "model = LogisticRegression()"
      ],
      "execution_count": 25,
      "outputs": []
    },
    {
      "cell_type": "code",
      "metadata": {
        "colab": {
          "base_uri": "https://localhost:8080/"
        },
        "id": "WfYBy4TtUvK5",
        "outputId": "3d2076fb-b349-4fc7-e520-155ef68a536c"
      },
      "source": [
        "model.fit(X_train,Y_train)"
      ],
      "execution_count": 26,
      "outputs": [
        {
          "output_type": "execute_result",
          "data": {
            "text/plain": [
              "LogisticRegression(C=1.0, class_weight=None, dual=False, fit_intercept=True,\n",
              "                   intercept_scaling=1, l1_ratio=None, max_iter=100,\n",
              "                   multi_class='auto', n_jobs=None, penalty='l2',\n",
              "                   random_state=None, solver='lbfgs', tol=0.0001, verbose=0,\n",
              "                   warm_start=False)"
            ]
          },
          "metadata": {
            "tags": []
          },
          "execution_count": 26
        }
      ]
    },
    {
      "cell_type": "markdown",
      "metadata": {
        "id": "5vEXR8ubU7gY"
      },
      "source": [
        "Evaluating the model "
      ]
    },
    {
      "cell_type": "code",
      "metadata": {
        "id": "A00NryBVU5q_"
      },
      "source": [
        "# accuracy on training data\n",
        "X_train_prediction = model.predict(X_train)\n",
        "training_data_accuracy = accuracy_score(X_train_prediction,Y_train)"
      ],
      "execution_count": 27,
      "outputs": []
    },
    {
      "cell_type": "code",
      "metadata": {
        "colab": {
          "base_uri": "https://localhost:8080/"
        },
        "id": "v1CDpfMLVoiM",
        "outputId": "ec07a6c0-a951-4301-e3dd-9696b6ce029e"
      },
      "source": [
        "print(\"The accuracy on training data = \",training_data_accuracy)"
      ],
      "execution_count": 28,
      "outputs": [
        {
          "output_type": "stream",
          "text": [
            "The accuracy on training data =  0.9924356126553401\n"
          ],
          "name": "stdout"
        }
      ]
    },
    {
      "cell_type": "code",
      "metadata": {
        "id": "RuQUT9MrV2Lk"
      },
      "source": [
        "# accuracy on testing data\n",
        "X_test_prediction = model.predict(X_test)\n",
        "test_data_accuracy = accuracy_score(X_test_prediction,Y_test)"
      ],
      "execution_count": 29,
      "outputs": []
    },
    {
      "cell_type": "code",
      "metadata": {
        "colab": {
          "base_uri": "https://localhost:8080/"
        },
        "id": "Uy32XFYuWCO_",
        "outputId": "336cc3fa-5ef9-4509-b77f-93a662a6a970"
      },
      "source": [
        "print(\"The accuracy on test data = \",test_data_accuracy)"
      ],
      "execution_count": 30,
      "outputs": [
        {
          "output_type": "stream",
          "text": [
            "The accuracy on test data =  0.9815126050420168\n"
          ],
          "name": "stdout"
        }
      ]
    },
    {
      "cell_type": "markdown",
      "metadata": {
        "id": "rG7ic2E9WLxE"
      },
      "source": [
        "MAKING A PREDICTION SYSTEM FOR FAKE NEWS DETECTION :"
      ]
    },
    {
      "cell_type": "code",
      "metadata": {
        "colab": {
          "base_uri": "https://localhost:8080/"
        },
        "id": "1O3-AWVGWIAf",
        "outputId": "7956c91e-603c-4f5e-85c2-34eb7d70e264"
      },
      "source": [
        "X_new = X_test[10] ## stemmed data for analysis\n",
        "prediction = model.predict(X_new)\n",
        "if prediction[0]==0:\n",
        "  print(\"The news is true\")\n",
        "else:\n",
        "  print(\"The news is fake\")"
      ],
      "execution_count": 31,
      "outputs": [
        {
          "output_type": "stream",
          "text": [
            "The news is fake\n"
          ],
          "name": "stdout"
        }
      ]
    },
    {
      "cell_type": "code",
      "metadata": {
        "colab": {
          "base_uri": "https://localhost:8080/"
        },
        "id": "kjwssyN5XOPQ",
        "outputId": "7f5aedeb-4e4a-4491-fb3a-3b4cf2324bd7"
      },
      "source": [
        "print(Y_test[10])"
      ],
      "execution_count": 32,
      "outputs": [
        {
          "output_type": "stream",
          "text": [
            "1\n"
          ],
          "name": "stdout"
        }
      ]
    }
  ]
}